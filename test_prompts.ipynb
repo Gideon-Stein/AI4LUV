{
 "cells": [
  {
   "cell_type": "code",
   "execution_count": 33,
   "metadata": {},
   "outputs": [],
   "source": [
    "from tools import generate_new_image\n",
    "import numpy as np"
   ]
  },
  {
   "cell_type": "code",
   "execution_count": 2,
   "metadata": {},
   "outputs": [],
   "source": [
    "generate_new_image()"
   ]
  },
  {
   "cell_type": "code",
   "execution_count": null,
   "metadata": {},
   "outputs": [],
   "source": [
    "prompt=\"A man on the left and a woman on the right that lie in a forest. Frontal view, big faces, high resolution, couple, love\",\n"
   ]
  },
  {
   "cell_type": "code",
   "execution_count": 66,
   "metadata": {},
   "outputs": [],
   "source": [
    "def form_prompt(prompt):\n",
    "    # garantueed.\n",
    "\n",
    "    a = \"A picture of a man on the left and a woman on the right. They both look very happy together.\"\n",
    "    b = \" They are both german looking.\"\n",
    "    c = \" There are no other people in the image.\"\n",
    "    d = \" They are arround 30 years old.\"\n",
    "    out = a+b+c+d\n",
    "    # potential adds.\n",
    "\n",
    "    biom_chance = np.random.randint(0,40)\n",
    "\n",
    "    if biom_chance < 5: \n",
    "        out  = out + \" They stand on a beautiful mountain.\"\n",
    "    elif biom_chance < 10 and biom_chance >=5:\n",
    "        out = out + \" They stand in the black forest.\"\n",
    "    elif biom_chance < 15 and biom_chance >=10:\n",
    "        out = out + \" They stand in a buzzling jungle.\"\n",
    "    elif biom_chance < 20 and biom_chance >=15:\n",
    "        out = out + \" They stand in a hot desert.\"\n",
    "    elif biom_chance < 25 and biom_chance >=20:\n",
    "        out = out + \" They stand on a white beach.\"\n",
    "    elif biom_chance < 30 and biom_chance >=25:\n",
    "        out = out + \" They stand in a busy city.\"\n",
    "    elif biom_chance < 35 and biom_chance >=30:\n",
    "        out = out + \" They stand in on Mars.\"\n",
    "    elif biom_chance >=35:\n",
    "        out = out + \" They stand in the jungle.\"\n",
    "\n",
    "\n",
    "    if np.random.randint(0, 100) <= 25:\n",
    "        out  = out + \" Full body shot\"\n",
    "    if np.random.randint(0, 100) <= 10:\n",
    "        out = out + \" The woman wears a traditional Black forest hat\"\n",
    "    if np.random.randint(0, 100) <= 10:\n",
    "        out = out + \" The man holds a sign that says: 'Dajana is a cutie'.\"\n",
    "    if np.random.randint(0, 100) <= 10:\n",
    "        final_prompt = out + \" \" + prompt +  \". The picture is painted in the style of Vincent van Gogh.\"\n",
    "    elif np.random.randint(0, 100) <= 10:\n",
    "        final_prompt = out + \" \" + prompt +  \". The picture is painted in the style of Salvador Dali.\"\n",
    "    elif np.random.randint(0, 100) <= 10:\n",
    "        final_prompt = out + \" \" + prompt +  \". The picture is painted in the style of a kindergarden kid.\"\n",
    "    else:\n",
    "        final_prompt = out + \" \" + prompt +  \". High resolution, professional photography, dynamic shot, sharp and detailed background.\"  \n",
    "    print(final_prompt)\n",
    "    return final_prompt\n"
   ]
  },
  {
   "cell_type": "code",
   "execution_count": 67,
   "metadata": {},
   "outputs": [
    {
     "name": "stdout",
     "output_type": "stream",
     "text": [
      "A picture of a man on the left and a woman on the right. They both look very happy together. They are both german looking. There are no other people in the image. They are arround 30 years old. They stand on a beautiful mountain. there are many frogs in the image. The picture is painted in Vincent van Gogh High resolution, professional photography, dynamic shot, sharp and detailed background.\n"
     ]
    }
   ],
   "source": [
    "generate_new_image(form_prompt(\"\"ConnectionRefusedError))"
   ]
  },
  {
   "cell_type": "code",
   "execution_count": 39,
   "metadata": {},
   "outputs": [
    {
     "name": "stdout",
     "output_type": "stream",
     "text": [
      "A picture of a man on the left and a woman on the right. They both look very happy together. They are both german looking. There are no other people in the image. They are arround 30 years old. They stand in the black forest. The woman wears a traditional Black forest hat High resolution, professional photography, dynamic shot\n"
     ]
    }
   ],
   "source": [
    "print(form_prompt(\"\"))"
   ]
  },
  {
   "cell_type": "code",
   "execution_count": null,
   "metadata": {},
   "outputs": [],
   "source": []
  }
 ],
 "metadata": {
  "kernelspec": {
   "display_name": "ai4luv",
   "language": "python",
   "name": "python3"
  },
  "language_info": {
   "codemirror_mode": {
    "name": "ipython",
    "version": 3
   },
   "file_extension": ".py",
   "mimetype": "text/x-python",
   "name": "python",
   "nbconvert_exporter": "python",
   "pygments_lexer": "ipython3",
   "version": "3.11.10"
  }
 },
 "nbformat": 4,
 "nbformat_minor": 2
}
